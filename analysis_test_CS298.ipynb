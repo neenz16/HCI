{
  "cells": [
    {
      "cell_type": "markdown",
      "metadata": {
        "id": "view-in-github",
        "colab_type": "text"
      },
      "source": [
        "<a href=\"https://colab.research.google.com/github/neenz16/HCI/blob/main/analysis_test_CS298.ipynb\" target=\"_parent\"><img src=\"https://colab.research.google.com/assets/colab-badge.svg\" alt=\"Open In Colab\"/></a>"
      ]
    },
    {
      "cell_type": "code",
      "source": [
        "import pandas as pd\n",
        "import numpy as np\n",
        "\n",
        "# Read the CSV file into a pandas dataframe\n",
        "df = pd.read_csv('sortedoutputwithmessags.csv')\n",
        "\n",
        "# Find the start and end rows for each trial\n",
        "trial_starts = df[df['messages'].str.startswith('Display Trial')].index\n",
        "trial_ends = df[df['messages'].str.contains('User Respnse')].index.tolist()\n",
        "trial_ends.append(len(df)) # add last row index to the end of trial_ends\n",
        "\n",
        "# Loop through each trial and calculate the mean pupil diameter for left and right eyes\n",
        "for i in range(len(trial_starts)):\n",
        "    trial = df.loc[trial_starts[i]:trial_ends[i]]\n",
        "    left_mean = np.nanmean(trial['left.pupil.diameter'].fillna(0))\n",
        "    right_mean = np.nanmean(trial['right.pupil.diameter'].fillna(0))\n",
        "    last_row = trial.iloc[-1]\n",
        "    response = last_row['messages'].split('User Respnse: ')[-1].strip()\n",
        "    character2 = None\n",
        "    response_split = response.split(',')\n",
        "\n",
        "    for s in response_split:\n",
        "        if 'character' in s:\n",
        "            character = s.split(':')[-1].strip()\n",
        "\n",
        "    image_name = None\n",
        "    if len(response_split) > 1:\n",
        "        image_name = response_split[1].split(':')[-1].strip()\n",
        "    trial_number = response_split[0].split()[-1]\n",
        "\n",
        "    # Find the row with the total time for this trial\n",
        "    total_time_row = df.loc[trial_ends[i]+1:trial_ends[i+1]].loc[df['messages'].str.contains('Total Time:')]\n",
        "    if len(total_time_row) > 0:\n",
        "        # Extract the total time value from the messages column\n",
        "        total_time_value = total_time_row['messages'].str.extract(r'^Total Time: (\\d+\\.\\d+)').iloc[0, 0]\n",
        "    else:\n",
        "        total_time_value = np.nan\n",
        "\n",
        "    print(f'Trial {i+1}: Response = {character}, Left mean pupil diameter = {left_mean}, Right mean pupil diameter = {right_mean}, Total Time = {total_time_value}')\n",
        "\n"
      ],
      "metadata": {
        "id": "s0O_dyKLbef9"
      },
      "execution_count": null,
      "outputs": []
    },
    {
      "cell_type": "markdown",
      "source": [
        "subject data .mat files to CSV"
      ],
      "metadata": {
        "id": "ORl8s2Wel_t7"
      }
    },
    {
      "cell_type": "code",
      "source": [
        "import pandas as pd\n",
        "import numpy as np\n",
        "import re"
      ],
      "metadata": {
        "id": "F-V7ut3_mFYj"
      },
      "execution_count": null,
      "outputs": []
    },
    {
      "cell_type": "code",
      "source": [
        "# Use Matlab file to generate the csv file\n",
        "dataset = ['ResultTable_sub1.csv', 'ResultTable_sub5.csv', 'ResultTable_sub7.csv',\n",
        "           'ResultTable_sub8.csv', 'ResultTable_sub9.csv', 'ResultTable_sub10.csv',\n",
        "           'ResultTable_sub12.csv', 'ResultTable_sub13.csv', 'ResultTable_sub14.csv',\n",
        "           'ResultTable_sub16.csv', 'ResultTable_sub17.csv','ResultTable_sub18.csv',\n",
        "           'ResultTable_sub19.csv', 'ResultTable_sub20.csv','ResultTable_sub21.csv']\n",
        "\n",
        "\n",
        "index = 0\n",
        "# initializing string\n",
        "num_string = dataset[index]\n",
        "# using re.findall()\n",
        "# getting numbers from string\n",
        "temp = re.findall(r'\\d+', num_string)\n",
        "sub_num = list(map(int, temp))\n",
        "# print result\n",
        "print(sub_num)\n",
        "\n",
        "\n",
        "# Define variables for the output:\n",
        "tr = []\n",
        "response = []\n",
        "pupil_left = []\n",
        "rt = []\n",
        "character_type_array = []\n",
        "block = []\n",
        "block_no = 0\n",
        "subject = []"
      ],
      "metadata": {
        "id": "35R5bS7CmHIy"
      },
      "execution_count": null,
      "outputs": []
    },
    {
      "cell_type": "code",
      "source": [
        "\n",
        "for j in range(len(dataset)):\n",
        "  count_FI = 0\n",
        "  count_FOMI = 0\n",
        "\n",
        "  # initializing string\n",
        "  num_string = dataset[j]\n",
        "  # using re.findall()\n",
        "  # getting numbers from string\n",
        "  temp = re.findall(r'\\d+', num_string)\n",
        "  sub_num = list(map(int, temp))\n",
        "\n",
        "  # Read the CSV file into a pandas dataframe\n",
        "  df = pd.read_csv(dataset[j])\n",
        "\n",
        "  # Find the start and end rows for each trial\n",
        "  trial_starts = df[df['message'].str.startswith('Display Trial')].index\n",
        "  trial_ends = df[df['message'].str.contains('User Respnse')].index.tolist()\n",
        "  trial_ends.append(len(df)) # add last row index to the end of trial_ends\n",
        "\n",
        "#print('Subject, Block, Trial, FI Response, FI Left mean pupil diameter , FI Total Time, MI/FO Response, MI/FO Left mean pupil diameter , MI/FO Total Time ')\n",
        "\n",
        "  # Loop through each trial and calculate the mean pupil diameter for left and right eyes\n",
        "  for i in range(len(trial_starts)):\n",
        "      trial = df.loc[trial_starts[i]:trial_ends[i]]\n",
        "      left_mean = np.nanmean(trial['leftPupilDiameter'].fillna(0))\n",
        "      #right_mean = np.nanmean(trial['right.pupil.diameter'].fillna(0))\n",
        "      last_row = trial.iloc[-1]\n",
        "      response = last_row['message'].split('User Respnse: ')[-1].strip()\n",
        "      character2 = None\n",
        "      response_split = response.split(',')\n",
        "\n",
        "      for s in response_split:\n",
        "          if 'character' in s:\n",
        "              character = s.split(':')[-1].strip()\n",
        "              # Get the response FI or MI/FO\n",
        "\n",
        "      image_name = None\n",
        "      if len(response_split) > 1:\n",
        "          image_name = response_split[1].split(':')[-1].strip()\n",
        "      trial_number = response_split[0].split()[-1]\n",
        "\n",
        "      # Find the row with the total time for this trial\n",
        "      total_time_row = df.loc[trial_ends[i]+1:trial_ends[i+1]].loc[df['message'].str.contains('Total Time:')]\n",
        "      if len(total_time_row) > 0:\n",
        "          # Extract the total time value from the messages column\n",
        "          total_time_value = total_time_row['message'].str.extract(r'^Total Time: (\\d+\\.\\d+)').iloc[0, 0]\n",
        "      else:\n",
        "          total_time_value = np.nan\n",
        "      # print(f'{i+1},  {character}, {left_mean},{total_time_value}')\n",
        "\n",
        "      tr.append(i+1)\n",
        "      if 'FI' in character:\n",
        "          character_type = \"\".join(\"FI\")\n",
        "      else:\n",
        "          character_type = \"\".join('MI/FO')\n",
        "      character_type_array.append(character_type)\n",
        "      pupil_left.append(left_mean)\n",
        "      rt.append(total_time_value)\n",
        "      if (i+1) <= 10:\n",
        "          block_no = 1\n",
        "      elif (i+1) > 10 and (i+1) <= 20:\n",
        "          block_no = 2\n",
        "      else:\n",
        "          block_no = 3\n",
        "      block.append(block_no)\n",
        "      subject.append(sub_num)\n",
        "\n",
        "      #print(f'{i+1},  {character}, {character_type},  {left_mean,},{total_time_value}')\n",
        "\n",
        "\n",
        "\n",
        "\n",
        "d = {'subject': subject, 'block': block, 'trial': tr, 'character_type': character_type_array, 'pupil_ave': pupil_left, 'rt':rt}\n",
        "df_results = pd.DataFrame(data = d)\n",
        "df_results.head(5)\n"
      ],
      "metadata": {
        "id": "OYgSO7xBmJeN"
      },
      "execution_count": null,
      "outputs": []
    },
    {
      "cell_type": "code",
      "source": [
        "# Divide the data based on the blocks\n",
        "df_block1 = df_results[df_results['block'] == 1]\n",
        "df_block3 = df_results[df_results['block'] == 3]\n"
      ],
      "metadata": {
        "id": "YerEZAcgmOhN"
      },
      "execution_count": null,
      "outputs": []
    },
    {
      "cell_type": "code",
      "source": [
        "df_block1.describe()\n"
      ],
      "metadata": {
        "id": "pr6jC0ZbmQAY"
      },
      "execution_count": null,
      "outputs": []
    },
    {
      "cell_type": "code",
      "source": [
        "df_block3.describe()\n"
      ],
      "metadata": {
        "id": "eOa57fq3mSQT"
      },
      "execution_count": null,
      "outputs": []
    },
    {
      "cell_type": "code",
      "source": [
        "# count the responses:\n",
        "df_block1_FI = df_block1[df_block1['character_type']== 'FI']"
      ],
      "metadata": {
        "id": "q4d83nmPmWGF"
      },
      "execution_count": null,
      "outputs": []
    },
    {
      "cell_type": "code",
      "source": [
        "# count the responses:\n",
        "df_block3_FI = df_block3[df_block3['character_type']== 'FI']"
      ],
      "metadata": {
        "id": "J353JZ7ymWru"
      },
      "execution_count": null,
      "outputs": []
    },
    {
      "cell_type": "code",
      "source": [
        "df_block1_FI.count()\n",
        "df_block3_FI.count()\n",
        "\n",
        "df_block1_FI['pupil_ave'].mean()\n",
        "df_block3_FI['pupil_ave'].mean()\n",
        "\n",
        "\n",
        "#df_block1_FI['rt'].mean()\n",
        "#df_block3_FI['rt'].mean()\n",
        "\n",
        "print('block 1 -> count FI:', df_block1_FI.count(), 'pupil_ave FI:', df_block1_FI['pupil_ave'].mean())\n",
        "print('block 3 -> count FI:', df_block3_FI.count(), 'pupil_ave FI:', df_block3_FI['pupil_ave'].mean())"
      ],
      "metadata": {
        "id": "6gevw57nmYay"
      },
      "execution_count": null,
      "outputs": []
    },
    {
      "cell_type": "code",
      "source": [
        "# t-test:\n",
        "from scipy.stats import ttest_rel\n",
        "t_test_FI_count = ttest_rel(df_block1['pupil_ave'], df_block3['pupil_ave'])\n",
        "print(f\"P-Value: {round(t_test_FI_count.pvalue,4)}\")\n",
        "\n"
      ],
      "metadata": {
        "id": "9rYydYJzmclJ"
      },
      "execution_count": null,
      "outputs": []
    },
    {
      "cell_type": "markdown",
      "source": [
        "matlab coode to convert t.mat to output.xls with device time and messages with pupil dilation stuff"
      ],
      "metadata": {
        "id": "A9LVUfNeteyq"
      }
    },
    {
      "cell_type": "code",
      "source": [
        "# # % how to run\n",
        "# # % 1) change the variable 'temp' below to the name of .mat file being read\n",
        "# # % 2) change the variable 'len' below to the number of rows/columns of data\n",
        "# # % 3) change the variable 'messages_length' to the number of messages in the\n",
        "# # % .mat file\n",
        "# # % 4) change the variable 'output_file' to the name of the output file\n",
        "# # % 5) hit run at the top and let the script run completely\n",
        "# # % 6) check to see that the data in the output csv matches the data in the\n",
        "# # % .mat file\n",
        "\n",
        "# # % change variable based on name of file being read\n",
        "# temp = load('t.mat');\n",
        "\n",
        "# # % change variable for loop length based on the number of rows/columns\n",
        "# len = 11514;\n",
        "\n",
        "# # % change variable based on number of messages\n",
        "# messages_length = 206;\n",
        "\n",
        "# # % change variable based on what you want to name output file\n",
        "# output_file = 'output.csv'\n",
        "\n",
        "# # % naming the header\n",
        "# file = table([],[],[],[],[],[],[],[],[],[],[],[],[],[],[],[],[],[],[],[],[],'VariableNames',{ ...\n",
        "#     'deviceTimeStamp', ...\n",
        "#     'systemTimeStamp', ...\n",
        "#     'messages', ...\n",
        "#     'left.gazePoint.onDisplayArea x', ...\n",
        "#     'left.gazePoint.onDisplayArea y', ...\n",
        "#     'left.gazePoint.inUserCoords x', ...\n",
        "#     'left.gazePoint.inUserCoords y', ...\n",
        "#     'left.gazePoint.inUserCoords z', ...\n",
        "#     'left.pupil.diameter', ...\n",
        "#     'left.gazeOrigin.inUserCoords x', ...\n",
        "#     'left.gazeOrigin.inUserCoords y', ...\n",
        "#     'left.gazeOrigin.inUserCoords z', ...\n",
        "#     'right.gazePoint.onDisplayArea x', ...\n",
        "#     'right.gazePoint.onDisplayArea y', ...\n",
        "#     'right.gazePoint.inUserCoords x', ...\n",
        "#     'right.gazePoint.inUserCoords y', ...\n",
        "#     'right.gazePoint.inUserCoords z', ...\n",
        "#     'right.pupil.diameter', ...\n",
        "#     'right.gazeOrigin.inUserCoords x', ...\n",
        "#     'right.gazeOrigin.inUserCoords y,' ...\n",
        "#     'right.gazeOrigin.inUserCoords z'});\n",
        "\n",
        "# message_file = table([], 'VariableNames',{'systemTimeStamp'});\n",
        "\n",
        "# # % variables for transposing\n",
        "# a = transpose(temp.data.gaze.left.gazeOrigin.inUserCoords);\n",
        "# b = transpose(temp.data.gaze.right.gazeOrigin.inUserCoords);\n",
        "\n",
        "# c = transpose(temp.data.gaze.left.gazePoint.inUserCoords);\n",
        "# d = transpose(temp.data.gaze.right.gazePoint.inUserCoords);\n",
        "\n",
        "# x = transpose(temp.data.gaze.left.gazePoint.onDisplayArea);\n",
        "# y = transpose(temp.data.gaze.right.gazePoint.onDisplayArea);\n",
        "\n",
        "# # % for loop to iterate take each piece of data and write to a row, then\n",
        "# # % clear array and do it again\n",
        "# for i = 1:len\n",
        "#     newline = {temp.data.gaze.deviceTimeStamp(i), ...\n",
        "#         temp.data.gaze.systemTimeStamp(i), ...\n",
        "#         0, ...\n",
        "#         x(i), ...\n",
        "#         x(i+len), ...\n",
        "#         c(i), ...\n",
        "#         c(i+len), ...\n",
        "#         c(i+(len*2)), ...\n",
        "#         temp.data.gaze.left.pupil.diameter(i), ...\n",
        "#         a(i), ...\n",
        "#         a(i+len), ...\n",
        "#         a(i+(len*2)), ...\n",
        "#         y(i), ...\n",
        "#         y(i+len), ...\n",
        "#         d(i), ...\n",
        "#         d(i+len), ...\n",
        "#         d(i+(len*2)), ...\n",
        "#         temp.data.gaze.right.pupil.diameter(i), ...\n",
        "#         b(i), ...\n",
        "#         b(i+len), ...\n",
        "#         b(i+(len*2))};\n",
        "#     file = [file ; newline];\n",
        "#     writetable(file,output_file);\n",
        "#     disp(i)\n",
        "# end\n",
        "\n",
        "# # % for loop to append messages below\n",
        "# for i = 1:messages_length\n",
        "#     writecell([0, temp.messages(i), temp.messages(messages_length+i)],output_file,'WriteMode','append');\n",
        "#     disp(i)\n",
        "# end"
      ],
      "metadata": {
        "id": "SZt4mLTwtn5w"
      },
      "execution_count": null,
      "outputs": []
    }
  ],
  "metadata": {
    "colab": {
      "provenance": [],
      "include_colab_link": true
    },
    "kernelspec": {
      "display_name": "Python 3",
      "name": "python3"
    }
  },
  "nbformat": 4,
  "nbformat_minor": 0
}